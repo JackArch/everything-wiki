{
 "cells": [
  {
   "cell_type": "markdown",
   "metadata": {},
   "source": [
    "原文参见: [Understanding LSTM in Tensorflow(MNIST dataset)](https://jasdeep06.github.io/posts/Understanding-LSTM-in-Tensorflow-MNIST/?spm=5176.100239.0.0.F2BDyz)"
   ]
  },
  {
   "cell_type": "markdown",
   "metadata": {},
   "source": [
    "本笔记旨在了解TensorFlow中LSTM的基础输入格式。"
   ]
  },
  {
   "cell_type": "markdown",
   "metadata": {},
   "source": [
    "cell和unit:\n",
    "![](https://github.com/jasdeep06/jasdeep06.github.io/blob/master/posts/Understanding-LSTM-in-Tensorflow-MNIST/images/num_units.png?raw=True)"
   ]
  },
  {
   "cell_type": "markdown",
   "metadata": {},
   "source": [
    "输入格式:\n",
    "![](https://github.com/jasdeep06/jasdeep06.github.io/blob/master/posts/Understanding-LSTM-in-Tensorflow-MNIST/images/inputs.png?raw=True)"
   ]
  },
  {
   "cell_type": "code",
   "execution_count": 1,
   "metadata": {},
   "outputs": [],
   "source": [
    "import sys\n",
    "import tensorflow as tf\n",
    "from tensorflow.contrib import rnn\n",
    "from tensorflow.examples.tutorials.mnist import input_data"
   ]
  },
  {
   "cell_type": "code",
   "execution_count": 2,
   "metadata": {},
   "outputs": [
    {
     "name": "stdout",
     "output_type": "stream",
     "text": [
      "Extracting ./MNIST/train-images-idx3-ubyte.gz\n",
      "Extracting ./MNIST/train-labels-idx1-ubyte.gz\n",
      "Extracting ./MNIST/t10k-images-idx3-ubyte.gz\n",
      "Extracting ./MNIST/t10k-labels-idx1-ubyte.gz\n"
     ]
    }
   ],
   "source": [
    "time_steps = 28\n",
    "num_units = 128\n",
    "n_input = 28\n",
    "learning_rate = 0.001\n",
    "n_classes = 10\n",
    "batch_size = 128\n",
    "\n",
    "mnist = input_data.read_data_sets(\"./MNIST/\", one_hot = True)\n",
    "\n",
    "out_weights = tf.Variable(tf.random_normal([num_units, n_classes]))\n",
    "out_bias = tf.Variable(tf.random_normal([n_classes]))\n",
    "x = tf.placeholder(dtype = tf.float32, shape = [None, time_steps, n_input])\n",
    "y = tf.placeholder(dtype = tf.float32, shape = [None, n_classes])\n",
    "\n",
    "input = tf.unstack(x, time_steps, 1)\n",
    "lstm_layer = rnn.BasicLSTMCell(num_units, forget_bias = 1)\n",
    "outputs, _ = rnn.static_rnn(lstm_layer, input, dtype = tf.float32)\n",
    "prediction = tf.matmul(outputs[-1], out_weights) + out_bias\n",
    "loss = tf.reduce_mean(tf.nn.softmax_cross_entropy_with_logits(logits=prediction, labels=y))\n",
    "opt = tf.train.AdamOptimizer(learning_rate).minimize(loss)\n",
    "\n",
    "accuracy = tf.reduce_mean(tf.cast(tf.equal(tf.argmax(prediction, 1), tf.argmax(y, 1)), tf.float32))"
   ]
  },
  {
   "cell_type": "code",
   "execution_count": 3,
   "metadata": {},
   "outputs": [
    {
     "name": "stdout",
     "output_type": "stream",
     "text": [
      "iter 100: loss = 0.5025, accuracy = 0.8594.\n",
      "iter 200: loss = 0.2134, accuracy = 0.9219.\n",
      "iter 300: loss = 0.2078, accuracy = 0.9297.\n",
      "iter 400: loss = 0.1500, accuracy = 0.9531.\n",
      "iter 500: loss = 0.0706, accuracy = 0.9688.\n",
      "iter 600: loss = 0.0688, accuracy = 0.9766.\n",
      "iter 700: loss = 0.2038, accuracy = 0.9531.\n",
      "iter 800: loss = 0.0271, accuracy = 0.9922.\n",
      "iter 900: loss = 0.0706, accuracy = 0.9922.\n",
      "iter 1000: loss = 0.1382, accuracy = 0.9531.\n",
      "iter 1100: loss = 0.0720, accuracy = 0.9844.\n",
      "iter 1200: loss = 0.0620, accuracy = 0.9688.\n",
      "iter 1300: loss = 0.0274, accuracy = 0.9844.\n",
      "iter 1400: loss = 0.0492, accuracy = 0.9922.\n",
      "iter 1500: loss = 0.0501, accuracy = 0.9766.\n",
      "iter 1600: loss = 0.0213, accuracy = 0.9922.\n",
      "iter 1700: loss = 0.0346, accuracy = 0.9922.\n",
      "iter 1800: loss = 0.0509, accuracy = 0.9766.\n",
      "iter 1900: loss = 0.0274, accuracy = 0.9922.\n",
      "iter 2000: loss = 0.0123, accuracy = 1.0000.\n",
      "final test loss: 0.0657, accuracy: 0.9786\n"
     ]
    }
   ],
   "source": [
    "with tf.Session() as sess:\n",
    "    tf.global_variables_initializer().run()\n",
    "    for i in range(2000):\n",
    "        batch_x, batch_y = mnist.train.next_batch(batch_size = batch_size)\n",
    "        batch_x = batch_x.reshape((batch_size, time_steps, n_input))\n",
    "        sess.run(opt, feed_dict = {x: batch_x, y: batch_y})\n",
    "        if (i + 1) % 100 == 0:\n",
    "            loss_, acc_ = sess.run([loss, accuracy], feed_dict = {x: batch_x, y: batch_y})\n",
    "            print(\"iter %d: loss = %.4f, accuracy = %.4f.\" % (i + 1, loss_, acc_))\n",
    "    test_x, test_y = mnist.test.images.reshape((-1, time_steps, n_input)), mnist.test.labels\n",
    "    loss_, acc_ = sess.run([loss, accuracy], feed_dict = {x: test_x, y: test_y})\n",
    "    print(\"final test loss: %.4f, accuracy: %.4f\" % (loss_, acc_))"
   ]
  },
  {
   "cell_type": "code",
   "execution_count": null,
   "metadata": {},
   "outputs": [],
   "source": []
  }
 ],
 "metadata": {
  "kernelspec": {
   "display_name": "Python 3",
   "language": "python",
   "name": "python3"
  },
  "language_info": {
   "codemirror_mode": {
    "name": "ipython",
    "version": 3
   },
   "file_extension": ".py",
   "mimetype": "text/x-python",
   "name": "python",
   "nbconvert_exporter": "python",
   "pygments_lexer": "ipython3",
   "version": "3.6.3"
  }
 },
 "nbformat": 4,
 "nbformat_minor": 2
}
