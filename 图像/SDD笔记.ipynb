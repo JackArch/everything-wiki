{
 "cells": [
  {
   "cell_type": "markdown",
   "metadata": {},
   "source": [
    "## namedtuple的用法"
   ]
  },
  {
   "cell_type": "code",
   "execution_count": 1,
   "metadata": {},
   "outputs": [],
   "source": [
    "from collections import namedtuple"
   ]
  },
  {
   "cell_type": "code",
   "execution_count": 5,
   "metadata": {},
   "outputs": [],
   "source": [
    "Person = namedtuple(\"Person\", \"name gender age\")"
   ]
  },
  {
   "cell_type": "code",
   "execution_count": 7,
   "metadata": {},
   "outputs": [],
   "source": [
    "person = Person(\"joshua\", \"male\", 30)"
   ]
  },
  {
   "cell_type": "code",
   "execution_count": 20,
   "metadata": {},
   "outputs": [
    {
     "data": {
      "text/plain": [
       "('joshua', 'joshua')"
      ]
     },
     "execution_count": 20,
     "metadata": {},
     "output_type": "execute_result"
    }
   ],
   "source": [
    "person.name, person[0]"
   ]
  },
  {
   "cell_type": "code",
   "execution_count": 21,
   "metadata": {},
   "outputs": [],
   "source": [
    "person = Person(name = \"joshua\", gender = \"male\", age = 30)"
   ]
  },
  {
   "cell_type": "code",
   "execution_count": 22,
   "metadata": {},
   "outputs": [
    {
     "data": {
      "text/plain": [
       "('joshua', 'joshua')"
      ]
     },
     "execution_count": 22,
     "metadata": {},
     "output_type": "execute_result"
    }
   ],
   "source": [
    "person.name, person[0]"
   ]
  },
  {
   "cell_type": "code",
   "execution_count": 23,
   "metadata": {},
   "outputs": [
    {
     "data": {
      "text/plain": [
       "True"
      ]
     },
     "execution_count": 23,
     "metadata": {},
     "output_type": "execute_result"
    }
   ],
   "source": [
    "isinstance(person, Person)"
   ]
  },
  {
   "cell_type": "markdown",
   "metadata": {},
   "source": [
    "## tf.variable_scope vs  tf.name_scope"
   ]
  },
  {
   "cell_type": "code",
   "execution_count": 24,
   "metadata": {},
   "outputs": [],
   "source": [
    "import tensorflow as tf"
   ]
  },
  {
   "cell_type": "code",
   "execution_count": 25,
   "metadata": {},
   "outputs": [],
   "source": [
    "with tf.variable_scope(\"V1\"):\n",
    "    a1 = tf.get_variable(name = \"a1\", shape = [1, ], initializer = tf.constant_initializer(1.0))"
   ]
  },
  {
   "cell_type": "code",
   "execution_count": 27,
   "metadata": {},
   "outputs": [
    {
     "data": {
      "text/plain": [
       "'V1/a1:0'"
      ]
     },
     "execution_count": 27,
     "metadata": {},
     "output_type": "execute_result"
    }
   ],
   "source": [
    "a1.name"
   ]
  },
  {
   "cell_type": "code",
   "execution_count": 28,
   "metadata": {},
   "outputs": [],
   "source": [
    "with tf.name_scope(\"V2\"):\n",
    "    a3 = tf.get_variable(name = \"a3\", shape = [1, ], initializer = tf.constant_initializer(1.0))"
   ]
  },
  {
   "cell_type": "code",
   "execution_count": 29,
   "metadata": {},
   "outputs": [
    {
     "data": {
      "text/plain": [
       "'a3:0'"
      ]
     },
     "execution_count": 29,
     "metadata": {},
     "output_type": "execute_result"
    }
   ],
   "source": [
    "a3.name"
   ]
  },
  {
   "cell_type": "code",
   "execution_count": 30,
   "metadata": {},
   "outputs": [
    {
     "name": "stdout",
     "output_type": "stream",
     "text": [
      "Help on class name_scope in module tensorflow.python.framework.ops:\n",
      "\n",
      "class name_scope(builtins.object)\n",
      " |  A context manager for use when defining a Python op.\n",
      " |  \n",
      " |  This context manager validates that the given `values` are from the\n",
      " |  same graph, makes that graph the default graph, and pushes a\n",
      " |  name scope in that graph (see\n",
      " |  @{tf.Graph.name_scope}\n",
      " |  for more details on that).\n",
      " |  \n",
      " |  For example, to define a new Python op called `my_op`:\n",
      " |  \n",
      " |  ```python\n",
      " |  def my_op(a, b, c, name=None):\n",
      " |    with tf.name_scope(name, \"MyOp\", [a, b, c]) as scope:\n",
      " |      a = tf.convert_to_tensor(a, name=\"a\")\n",
      " |      b = tf.convert_to_tensor(b, name=\"b\")\n",
      " |      c = tf.convert_to_tensor(c, name=\"c\")\n",
      " |      # Define some computation that uses `a`, `b`, and `c`.\n",
      " |      return foo_op(..., name=scope)\n",
      " |  ```\n",
      " |  \n",
      " |  Methods defined here:\n",
      " |  \n",
      " |  __enter__(self)\n",
      " |      Start the scope block.\n",
      " |      \n",
      " |      Returns:\n",
      " |        The scope name.\n",
      " |      \n",
      " |      Raises:\n",
      " |        ValueError: if neither `name` nor `default_name` is provided\n",
      " |          but `values` are.\n",
      " |  \n",
      " |  __exit__(self, type_arg, value_arg, traceback_arg)\n",
      " |  \n",
      " |  __init__(self, name, default_name=None, values=None)\n",
      " |      Initialize the context manager.\n",
      " |      \n",
      " |      Args:\n",
      " |        name: The name argument that is passed to the op function.\n",
      " |        default_name: The default name to use if the `name` argument is `None`.\n",
      " |        values: The list of `Tensor` arguments that are passed to the op function.\n",
      " |  \n",
      " |  ----------------------------------------------------------------------\n",
      " |  Data descriptors defined here:\n",
      " |  \n",
      " |  __dict__\n",
      " |      dictionary for instance variables (if defined)\n",
      " |  \n",
      " |  __weakref__\n",
      " |      list of weak references to the object (if defined)\n",
      "\n"
     ]
    }
   ],
   "source": [
    "help(tf.name_scope)"
   ]
  },
  {
   "cell_type": "code",
   "execution_count": null,
   "metadata": {},
   "outputs": [],
   "source": []
  }
 ],
 "metadata": {
  "kernelspec": {
   "display_name": "Python 3",
   "language": "python",
   "name": "python3"
  },
  "language_info": {
   "codemirror_mode": {
    "name": "ipython",
    "version": 3
   },
   "file_extension": ".py",
   "mimetype": "text/x-python",
   "name": "python",
   "nbconvert_exporter": "python",
   "pygments_lexer": "ipython3",
   "version": "3.6.3"
  }
 },
 "nbformat": 4,
 "nbformat_minor": 2
}
